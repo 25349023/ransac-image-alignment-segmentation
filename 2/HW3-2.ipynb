{
 "cells": [
  {
   "cell_type": "code",
   "execution_count": null,
   "outputs": [],
   "source": [
    "import matplotlib.pyplot as plt\n",
    "import numpy as np\n",
    "import cv2\n",
    "import tqdm"
   ],
   "metadata": {
    "collapsed": false
   }
  },
  {
   "cell_type": "code",
   "execution_count": null,
   "metadata": {
    "collapsed": true
   },
   "outputs": [],
   "source": [
    "class KMeans:\n",
    "    def __init__(self, k, init='random', n_guess=10, max_iter=300, epsilon=1e-2):\n",
    "        self.k_clusters = k\n",
    "        self.init = init\n",
    "        self.n_guess = n_guess\n",
    "        self.max_iter = max_iter\n",
    "        self.epsilon = epsilon\n",
    "        self.cluster_centers = None\n",
    "\n",
    "    def _init_cluster_centers(self, xs):\n",
    "        cc = np.array([])\n",
    "        if self.init == 'random':\n",
    "            idx = np.random.choice(range(xs.shape[0]), self.k_clusters, replace=False)\n",
    "            cc = xs[idx]\n",
    "        elif self.init == 'k-means++':\n",
    "            init_idx = np.random.choice(range(xs.shape[0]))\n",
    "            cc = np.array([init_idx], dtype=int)\n",
    "            while len(cc) < self.k_clusters:\n",
    "                squared_distances = np.linalg.norm(\n",
    "                    xs[:, np.newaxis] - xs[cc][np.newaxis], axis=-1\n",
    "                ).min(axis=-1) ** 2\n",
    "                total_dis = squared_distances.sum()\n",
    "                prob = squared_distances / total_dis\n",
    "                cc = np.append(cc, np.random.choice(range(xs.shape[0]), p=prob))\n",
    "            cc = xs[cc]\n",
    "        return cc\n",
    "\n",
    "    def predict(self, xs, cluster_centers=None):\n",
    "        cluster_centers = self.cluster_centers if cluster_centers is None else cluster_centers\n",
    "\n",
    "        # xs.shape: (n, ch), cluster_centers.shape: (k, ch)\n",
    "        return np.linalg.norm(xs[:, np.newaxis] - cluster_centers[np.newaxis],\n",
    "                              axis=-1).argmin(axis=-1)\n",
    "\n",
    "    def score(self, cluster_centers, xs):\n",
    "        distance = np.linalg.norm(\n",
    "            xs[:, np.newaxis] - cluster_centers[np.newaxis], axis=-1\n",
    "        ).min(axis=-1).sum()\n",
    "        return distance\n",
    "\n",
    "    def _update_center(self, cluster_centers, xs):\n",
    "        idx = self.predict(xs, cluster_centers)\n",
    "        new_centers = np.array([xs[idx == i].mean(axis=0) for i in range(self.k_clusters)])\n",
    "        return new_centers\n",
    "\n",
    "    def fit(self, xs):\n",
    "        best, best_cc = -1, None\n",
    "        for i in range(self.n_guess):\n",
    "            cluster_centers = self._fit_single_run(xs, i)\n",
    "            score = self.score(cluster_centers, xs)\n",
    "            if best == -1 or score < best:\n",
    "                best, best_cc = score, cluster_centers\n",
    "        self.cluster_centers = best_cc\n",
    "        return self\n",
    "\n",
    "    def _fit_single_run(self, xs, rnd=0):\n",
    "        cluster_centers = self._init_cluster_centers(xs)\n",
    "        for _ in tqdm.trange(self.max_iter, desc=f'Round {rnd + 1}: '):\n",
    "            new_cc = self._update_center(cluster_centers, xs)\n",
    "            change = np.linalg.norm(new_cc - cluster_centers, axis=-1)\n",
    "            converge = (change < self.epsilon).all()\n",
    "            if converge:\n",
    "                break\n",
    "            cluster_centers = new_cc\n",
    "        return cluster_centers\n"
   ]
  },
  {
   "cell_type": "code",
   "execution_count": null,
   "outputs": [],
   "source": [
    "image = cv2.imread('2-image.jpg')\n",
    "image"
   ],
   "metadata": {
    "collapsed": false
   }
  },
  {
   "cell_type": "code",
   "execution_count": null,
   "outputs": [],
   "source": [
    "flatten_img = image.reshape((-1, 3))\n",
    "flatten_img"
   ],
   "metadata": {
    "collapsed": false
   }
  },
  {
   "cell_type": "code",
   "execution_count": null,
   "outputs": [],
   "source": [
    "import time\n",
    "start = time.time()\n",
    "kmeans = KMeans(10, n_guess=50, max_iter=100, epsilon=1)\n",
    "kmeans.fit(flatten_img)\n",
    "print(f'{time.time() - start} secs')"
   ],
   "metadata": {
    "collapsed": false
   }
  },
  {
   "cell_type": "code",
   "execution_count": null,
   "outputs": [],
   "source": [
    "quantized_image = kmeans.cluster_centers[kmeans.predict(flatten_img)]\n",
    "quantized_image = quantized_image.reshape(image.shape).astype(np.uint8)\n",
    "\n",
    "plt.imshow(quantized_image[..., ::-1])"
   ],
   "metadata": {
    "collapsed": false
   }
  },
  {
   "cell_type": "code",
   "execution_count": 83,
   "outputs": [],
   "source": [
    "class MeanShift:\n",
    "    def __init__(self, bandwidth, max_iter=100, epsilon=1e-2):\n",
    "        self.bandwidth = bandwidth\n",
    "        self.max_iter = max_iter\n",
    "        self.epsilon = epsilon\n",
    "        self.xs = None\n",
    "        self.cluster_centers = None\n",
    "\n",
    "    def fit(self, xs):\n",
    "        self.xs = xs\n",
    "        cluster_centers = []\n",
    "        for x in tqdm.tqdm(xs, leave=False):\n",
    "            cluster_centers.append(self._fit_one_seed(x))\n",
    "        self.cluster_centers = cluster_centers\n",
    "        self.remove_duplicate()\n",
    "        return self\n",
    "\n",
    "    def _fit_one_seed(self, x):\n",
    "        kernel_mean = x\n",
    "        for _ in range(self.max_iter):\n",
    "            in_kernel = self._nearby(kernel_mean, self.xs)\n",
    "            new_kernel = self.xs[in_kernel].mean(axis=0)\n",
    "            if np.linalg.norm(new_kernel - kernel_mean) < self.epsilon:\n",
    "                break\n",
    "            kernel_mean = new_kernel\n",
    "        return kernel_mean\n",
    "\n",
    "    def remove_duplicate(self):\n",
    "        # [TODO] remove the duplicated kernels that distance < bandwidth && has fewer points\n",
    "        unique_centers = np.unique(np.array(self.cluster_centers, dtype=int), axis=0)\n",
    "        points_in_kernels = np.array([self._nearby(center, self.xs).sum() for center in unique_centers])\n",
    "        sorted_centers = unique_centers[points_in_kernels.argsort()[::-1]]\n",
    "\n",
    "        mark = np.ones(sorted_centers.shape[0], dtype=bool)\n",
    "        for i, center in enumerate(sorted_centers):\n",
    "            if mark[i]:\n",
    "                nearby = self._nearby(center, sorted_centers)\n",
    "                mark[nearby] = False\n",
    "                mark[i] = True\n",
    "        self.cluster_centers = sorted_centers[mark]\n",
    "\n",
    "    def _nearby(self, center, points):\n",
    "        distances = np.linalg.norm(center[np.newaxis] - points, axis=-1)\n",
    "        return distances < self.bandwidth"
   ],
   "metadata": {
    "collapsed": false
   }
  },
  {
   "cell_type": "code",
   "execution_count": 84,
   "outputs": [],
   "source": [
    "meanshift = MeanShift(15, max_iter=10, epsilon=5)"
   ],
   "metadata": {
    "collapsed": false
   }
  },
  {
   "cell_type": "code",
   "execution_count": 85,
   "outputs": [
    {
     "name": "stderr",
     "output_type": "stream",
     "text": [
      "                                                      \r"
     ]
    },
    {
     "data": {
      "text/plain": "<__main__.MeanShift at 0x1dccbfeae20>"
     },
     "execution_count": 85,
     "metadata": {},
     "output_type": "execute_result"
    }
   ],
   "source": [
    "meanshift.fit(flatten_img[:20000])"
   ],
   "metadata": {
    "collapsed": false
   }
  },
  {
   "cell_type": "code",
   "execution_count": 86,
   "outputs": [
    {
     "data": {
      "text/plain": "array([[214, 206, 198],\n       [220, 213, 210],\n       [206, 197, 187],\n       [197, 188, 179],\n       [188, 179, 171],\n       [181, 170, 161],\n       [171, 160, 156],\n       [159, 146, 140],\n       [148, 138, 133],\n       [141, 129, 123],\n       [131, 119, 115],\n       [122, 110, 105],\n       [102,  87,  83],\n       [111, 100,  95],\n       [ 90,  77,  73],\n       [ 80,  68,  63],\n       [ 69,  52,  49],\n       [ 54,  37,  34],\n       [ 25,   9,   4],\n       [ 35,  26,  23]])"
     },
     "execution_count": 86,
     "metadata": {},
     "output_type": "execute_result"
    }
   ],
   "source": [
    "meanshift.cluster_centers"
   ],
   "metadata": {
    "collapsed": false
   }
  }
 ],
 "metadata": {
  "kernelspec": {
   "display_name": "Python 3",
   "language": "python",
   "name": "python3"
  },
  "language_info": {
   "codemirror_mode": {
    "name": "ipython",
    "version": 2
   },
   "file_extension": ".py",
   "mimetype": "text/x-python",
   "name": "python",
   "nbconvert_exporter": "python",
   "pygments_lexer": "ipython2",
   "version": "2.7.6"
  }
 },
 "nbformat": 4,
 "nbformat_minor": 0
}
